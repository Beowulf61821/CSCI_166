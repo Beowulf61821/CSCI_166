{
  "cells": [
    {
      "cell_type": "markdown",
      "metadata": {
        "id": "view-in-github",
        "colab_type": "text"
      },
      "source": [
        "<a href=\"https://colab.research.google.com/github/Beowulf61821/CSCI_166/blob/main/CSCI_166_Project.ipynb\" target=\"_parent\"><img src=\"https://colab.research.google.com/assets/colab-badge.svg\" alt=\"Open In Colab\"/></a>"
      ]
    },
    {
      "cell_type": "code",
      "execution_count": 7,
      "metadata": {
        "colab": {
          "base_uri": "https://localhost:8080/"
        },
        "id": "tI_2rOtahZg3",
        "outputId": "760f59ed-933e-4d4f-ed78-641a84007031"
      },
      "outputs": [
        {
          "output_type": "stream",
          "name": "stdout",
          "text": [
            "Average Reward: 0.15\n"
          ]
        }
      ],
      "source": [
        "# Q-learning\n",
        "import gym\n",
        "import numpy as np\n",
        "import random\n",
        "env = gym.make('FrozenLake-v1')\n",
        "\n",
        "observation = env.reset()\n",
        "\n",
        "def q_learning(env, gamma=0.94, num_iterations=1000, theta=0.0001, epsilon=0.01, learning_rate=0.1):\n",
        "    #Initialize value function, policy, and Q arrays\n",
        "    V = np.zeros(env.observation_space.n)\n",
        "    policy = np.zeros(env.observation_space.n, dtype=int)\n",
        "    Q = np.zeros((env.observation_space.n, env.action_space.n))\n",
        "\n",
        "    for epsiodes in range(num_iterations):\n",
        "        delta = 0\n",
        "        #Each state\n",
        "        for s in range(env.observation_space.n):\n",
        "            v = V[s]\n",
        "            #Each action\n",
        "            for a in range(env.action_space.n):\n",
        "                # For exploration\n",
        "                rand = random.random()\n",
        "                if rand < epsilon:\n",
        "                    a = env.action_space.sample()\n",
        "                else:\n",
        "                # Uses the optimal action based on the state\n",
        "                    a = np.argmax(Q[s, :])\n",
        "                for _, next_state, reward, done in env.P[s][a]:\n",
        "                       maxAct = 0\n",
        "                       #Use optimal second action\n",
        "                       for a2 in range(env.action_space.n):\n",
        "                          if Q[next_state][a2] > Q[next_state][maxAct]:\n",
        "                             maxAct = a2\n",
        "                       #Calculate Q-value\n",
        "                       Q[s][a] += learning_rate * ((reward + gamma * Q[next_state][maxAct]) - Q[s][a])\n",
        "            # Update V[s] with the max Q value\n",
        "            for action in range(env.action_space.n):\n",
        "                if Q[s][action] > V[s]:\n",
        "                    V[s] = Q[s][action]\n",
        "                    policy[s] = action\n",
        "            # Update policy[s] with the action that maximizes Q value\n",
        "            delta = max(delta, abs(v - V[s]))\n",
        "        if delta < theta and 0:\n",
        "            break\n",
        "    #Returns V and policy arrays\n",
        "    return V, policy\n",
        "\n",
        "env.close()\n",
        "\n",
        "env = gym.make('FrozenLake-v1')\n",
        "\n",
        "# Reset the environment to the initial state\n",
        "observation = env.reset()\n",
        "\n",
        "#Apply optimal_V and optimal_policy from Q-learning algorithm\n",
        "optimal_V, optimal_policy = q_learning(env)\n",
        "\n",
        "#Evaluates policy\n",
        "def evaluate_policy(env, policy, num_episodes=100):\n",
        "    total_reward = 0\n",
        "    for _ in range(num_episodes):\n",
        "        state = env.reset()\n",
        "        done = False\n",
        "        while not done:\n",
        "            action = policy[state]\n",
        "            state, reward, done, _ =  env.step(action)\n",
        "            total_reward += reward\n",
        "    return total_reward / num_episodes\n",
        "\n",
        "#Calculates and prints out average reward\n",
        "average_reward = evaluate_policy(env, optimal_policy)\n",
        "print(\"Average Reward:\", average_reward)\n",
        "env.close()"
      ]
    },
    {
      "cell_type": "code",
      "source": [
        "# Q-learning\n",
        "import gym\n",
        "import numpy as np\n",
        "import random\n",
        "env = gym.make('Taxi-v3')\n",
        "\n",
        "observation = env.reset()\n",
        "\n",
        "def q_learning(env, gamma=0.89, num_iterations=1000, theta=0.000005, epsilon=0.01, learning_rate=0.005):\n",
        "    #Initialize value function, policy, and Q-value arrays\n",
        "    V = np.zeros(env.observation_space.n)\n",
        "    policy = np.zeros(env.observation_space.n, dtype=int)\n",
        "    Q = np.zeros((env.observation_space.n, env.action_space.n))\n",
        "\n",
        "    for epsiodes in range(num_iterations):\n",
        "        delta = 0\n",
        "        #Each state\n",
        "        for s in range(env.observation_space.n):\n",
        "            v = V[s]\n",
        "            #Each action\n",
        "            for a in range(env.action_space.n):\n",
        "                # For exploration\n",
        "                rand = random.random()\n",
        "                if rand < epsilon:\n",
        "                    a = env.action_space.sample()\n",
        "                else:\n",
        "                # Uses the optimal action based on the state\n",
        "                    a = np.argmax(Q[s, :])\n",
        "                for _, next_state, reward, done in env.P[s][a]:\n",
        "                       maxAct = 0\n",
        "                       for a2 in range(env.action_space.n):\n",
        "                          #Use optimal second action\n",
        "                          if Q[next_state][a2] > Q[next_state][maxAct]:\n",
        "                             maxAct = a2\n",
        "                       #Calculate Q-value\n",
        "                       Q[s][a] += learning_rate * ((reward + gamma * Q[next_state][maxAct]) - Q[s][a])\n",
        "            # Update V[s] with the max Q value\n",
        "            for action in range(env.action_space.n):\n",
        "                if Q[s][action] > V[s]:\n",
        "                    V[s] = Q[s][action]\n",
        "                    policy[s] = action\n",
        "            # Update policy[s] with the action that maximizes Q value\n",
        "            delta = max(delta, abs(v - V[s]))\n",
        "        if delta < theta and 0:\n",
        "            break\n",
        "    #Return V and policy arrays\n",
        "    return V, policy\n",
        "\n",
        "env.close()\n",
        "\n",
        "env = gym.make('Taxi-v3')\n",
        "\n",
        "# Reset the environment to the initial state\n",
        "observation = env.reset()\n",
        "\n",
        "# Apply optimal_V and optimal_policy from Q-learning algorithm\n",
        "optimal_V, optimal_policy = q_learning(env)\n",
        "\n",
        "#Evaluates policy\n",
        "def evaluate_policy(env, policy, num_episodes=100):\n",
        "    total_reward = 0\n",
        "    for _ in range(num_episodes):\n",
        "        state = env.reset()\n",
        "        done = False\n",
        "        while not done:\n",
        "            action = policy[state]\n",
        "            state, reward, done, _ =  env.step(action)\n",
        "            total_reward += reward\n",
        "    return total_reward / num_episodes\n",
        "\n",
        "#Calculates and prints out average reward\n",
        "average_reward = evaluate_policy(env, optimal_policy)\n",
        "print(\"Average Reward:\", average_reward)\n",
        "env.close()"
      ],
      "metadata": {
        "colab": {
          "base_uri": "https://localhost:8080/"
        },
        "id": "9HZqnFDrb7Vh",
        "outputId": "a7e9de4b-c31c-46d1-d775-9a3633a185be"
      },
      "execution_count": 6,
      "outputs": [
        {
          "output_type": "stream",
          "name": "stdout",
          "text": [
            "Average Reward: 7.76\n"
          ]
        }
      ]
    }
  ],
  "metadata": {
    "colab": {
      "provenance": [],
      "authorship_tag": "ABX9TyNiVrZYQUkhXroKT9a1Px6S",
      "include_colab_link": true
    },
    "kernelspec": {
      "display_name": "Python 3",
      "name": "python3"
    },
    "language_info": {
      "name": "python"
    }
  },
  "nbformat": 4,
  "nbformat_minor": 0
}